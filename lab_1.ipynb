{
  "nbformat": 4,
  "nbformat_minor": 0,
  "metadata": {
    "colab": {
      "provenance": [],
      "authorship_tag": "ABX9TyPFs/P+W45/S3hjtr3vkTn1",
      "include_colab_link": true
    },
    "kernelspec": {
      "name": "python3",
      "display_name": "Python 3"
    },
    "language_info": {
      "name": "python"
    }
  },
  "cells": [
    {
      "cell_type": "markdown",
      "metadata": {
        "id": "view-in-github",
        "colab_type": "text"
      },
      "source": [
        "<a href=\"https://colab.research.google.com/github/2303a51884/2303a51884-pyds-b-02/blob/main/lab_1.ipynb\" target=\"_parent\"><img src=\"https://colab.research.google.com/assets/colab-badge.svg\" alt=\"Open In Colab\"/></a>"
      ]
    },
    {
      "cell_type": "code",
      "execution_count": 10,
      "metadata": {
        "colab": {
          "base_uri": "https://localhost:8080/"
        },
        "id": "v6Pkg0RcGSNz",
        "outputId": "eb3e46a3-3560-4cac-f791-b5948eba00ec"
      },
      "outputs": [
        {
          "output_type": "stream",
          "name": "stdout",
          "text": [
            "Enter a number (≤ 10): 9\n",
            "Entering factorial(9)\n",
            "Recursive case: 9 * factorial(8)\n",
            "  Entering factorial(8)\n",
            "  Recursive case: 8 * factorial(7)\n",
            "    Entering factorial(7)\n",
            "    Recursive case: 7 * factorial(6)\n",
            "      Entering factorial(6)\n",
            "      Recursive case: 6 * factorial(5)\n",
            "        Entering factorial(5)\n",
            "        Recursive case: 5 * factorial(4)\n",
            "          Entering factorial(4)\n",
            "          Recursive case: 4 * factorial(3)\n",
            "            Entering factorial(3)\n",
            "            Recursive case: 3 * factorial(2)\n",
            "              Entering factorial(2)\n",
            "              Recursive case: 2 * factorial(1)\n",
            "                Entering factorial(1)\n",
            "                Base case reached: factorial(1) = 1\n",
            "              Returning from factorial(2) = 2\n",
            "            Returning from factorial(3) = 6\n",
            "          Returning from factorial(4) = 24\n",
            "        Returning from factorial(5) = 120\n",
            "      Returning from factorial(6) = 720\n",
            "    Returning from factorial(7) = 5040\n",
            "  Returning from factorial(8) = 40320\n",
            "Returning from factorial(9) = 362880\n",
            "Factorial of 9 is 362880\n"
          ]
        }
      ],
      "source": [
        "def factorial(n, depth=0):\n",
        "    indent = \"  \" * depth  # indentation for visualization\n",
        "    print(f\"{indent}Entering factorial({n})\")\n",
        "\n",
        "    if n == 0 or n == 1:\n",
        "        print(f\"{indent}Base case reached: factorial({n}) = 1\")\n",
        "        return 1\n",
        "    else:\n",
        "        print(f\"{indent}Recursive case: {n} * factorial({n-1})\")\n",
        "        result = n * factorial(n-1, depth+1)\n",
        "        print(f\"{indent}Returning from factorial({n}) = {result}\")\n",
        "        return result\n",
        "\n",
        "if __name__ == \"__main__\":\n",
        "    try:\n",
        "        num = int(input(\"Enter a number (≤ 10): \"))\n",
        "        if num < 0 or num > 10:\n",
        "            print(\"Please enter a number between 0 and 10.\")\n",
        "        else:\n",
        "            print(f\"Factorial of {num} is {factorial(num)}\")\n",
        "    except ValueError:\n",
        "        print(\"Invalid input. Please enter an integer.\")"
      ]
    },
    {
      "cell_type": "code",
      "source": [
        "import time\n",
        "import sys\n",
        "def factorial_recursive(n, depth=0):\n",
        "    if n == 0 or n == 1:\n",
        "        return 1\n",
        "    return n * factorial_recursive(n-1, depth+1)\n",
        "def factorial_iterative(n):\n",
        "    result = 1\n",
        "    for i in range(2, n+1):\n",
        "        result *= i\n",
        "    return result\n",
        "\n",
        "def compare_factorials(n):\n",
        "\n",
        "    start = time.perf_counter()\n",
        "    rec_result = factorial_recursive(n)\n",
        "    rec_time = (time.perf_counter() - start) * 1e6\n",
        "\n",
        "    start = time.perf_counter()\n",
        "    itr_result = factorial_iterative(n)\n",
        "    itr_time = (time.perf_counter() - start) * 1e6\n",
        "\n",
        "    rec_mem = sys.getsizeof(rec_result)\n",
        "    itr_mem = sys.getsizeof(itr_result)\n",
        "\n",
        "    print(f\"Factorial({n}) Recursive: {rec_result}, Iterative: {itr_result}\")\n",
        "    print(\"\\nComparison Table:\")\n",
        "    print(f\"{'Method':<15}{'Time (µs)':<15}{'Memory (bytes)':<20}\")\n",
        "    print(f\"{'Recursive':<15}{rec_time:<15.2f}{rec_mem:<20}\")\n",
        "    print(f\"{'Iterative':<15}{itr_time:<15.2f}{itr_mem:<20}\")\n",
        "\n",
        "if __name__ == \"__main__\":\n",
        "    try:\n",
        "        num = int(input(\"Enter a number (0-100): \"))\n",
        "        if num < 0:\n",
        "            print(\"Invalid input. Number must be non-negative.\")\n",
        "        else:\n",
        "            compare_factorials(num)\n",
        "    except ValueError:\n",
        "        print(\"Invalid input. Please enter an integer.\")"
      ],
      "metadata": {
        "colab": {
          "base_uri": "https://localhost:8080/"
        },
        "id": "VAHKwFGSJNJA",
        "outputId": "54cf76a2-ce0a-4944-d812-c17dc65f87a6"
      },
      "execution_count": 12,
      "outputs": [
        {
          "output_type": "stream",
          "name": "stdout",
          "text": [
            "Enter a number (0-100): 31\n",
            "Factorial(31) Recursive: 8222838654177922817725562880000000, Iterative: 8222838654177922817725562880000000\n",
            "\n",
            "Comparison Table:\n",
            "Method         Time (µs)      Memory (bytes)      \n",
            "Recursive      7.89           40                  \n",
            "Iterative      5.45           40                  \n"
          ]
        }
      ]
    }
  ]
}