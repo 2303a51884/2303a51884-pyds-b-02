{
  "nbformat": 4,
  "nbformat_minor": 0,
  "metadata": {
    "colab": {
      "provenance": [],
      "authorship_tag": "ABX9TyMwrpMH0vtgvTZtZpkMTd7S",
      "include_colab_link": true
    },
    "kernelspec": {
      "name": "python3",
      "display_name": "Python 3"
    },
    "language_info": {
      "name": "python"
    }
  },
  "cells": [
    {
      "cell_type": "markdown",
      "metadata": {
        "id": "view-in-github",
        "colab_type": "text"
      },
      "source": [
        "<a href=\"https://colab.research.google.com/github/2303a51884/2303a51884-pyds-b-02/blob/main/lab_4.ipynb\" target=\"_parent\"><img src=\"https://colab.research.google.com/assets/colab-badge.svg\" alt=\"Open In Colab\"/></a>"
      ]
    },
    {
      "cell_type": "code",
      "execution_count": 2,
      "metadata": {
        "colab": {
          "base_uri": "https://localhost:8080/"
        },
        "id": "ooj2sEei2sm4",
        "outputId": "a4bbab6d-2de2-40c1-a063-4a1290125cd2"
      },
      "outputs": [
        {
          "output_type": "stream",
          "name": "stdout",
          "text": [
            "Cleaned Sales Data:\n",
            "    Invoice_No   Customer_Name   Product  Quantity       Price        Total\n",
            "0         101     Ross Taylor    Laptop       2.0  500.000000  1000.000000\n",
            "1         102    Rachel Green    Mobile       1.0  700.000000   700.000000\n",
            "3         104   Chandler Bing  Keyboard       3.0  516.666667   450.000000\n",
            "4         105  Joey Tribbiani   Monitor       2.0  300.000000   600.000000\n",
            "5         106   Phoebe Buffay     Mouse       5.0  516.666667  2583.333333\n",
            "6         107     Ross Taylor    Tablet       1.0  800.000000   800.000000\n",
            "7         108    Rachel Green    Laptop       3.0  520.000000  1560.000000\n",
            "8         109   Chandler Bing    Mobile       2.0  516.666667  1033.333333\n",
            "9         110   Monica Geller   Monitor       4.0  280.000000  1120.000000\n",
            "\n",
            "Transactions with Total > 1000:\n",
            "    Invoice_No  Customer_Name  Product  Quantity       Price        Total\n",
            "5         106  Phoebe Buffay    Mouse       5.0  516.666667  2583.333333\n",
            "7         108   Rachel Green   Laptop       3.0  520.000000  1560.000000\n",
            "8         109  Chandler Bing   Mobile       2.0  516.666667  1033.333333\n",
            "9         110  Monica Geller  Monitor       4.0  280.000000  1120.000000\n"
          ]
        }
      ],
      "source": [
        "import pandas as pd\n",
        "\n",
        "\n",
        "df = pd.read_csv(\"/content/sales_data.csv\")\n",
        "\n",
        "\n",
        "df = df.dropna(subset=[\"Product\", \"Quantity\"])\n",
        "\n",
        "\n",
        "df[\"Price\"] = df[\"Price\"].fillna(df[\"Price\"].mean())\n",
        "\n",
        "\n",
        "df[\"Total\"] = df[\"Total\"].fillna(df[\"Quantity\"] * df[\"Price\"])\n",
        "\n",
        "\n",
        "high_value = df[df[\"Total\"] > 1000]\n",
        "print(\"Cleaned Sales Data:\\n\", df)\n",
        "print(\"\\nTransactions with Total > 1000:\\n\", high_value)\n"
      ]
    },
    {
      "cell_type": "code",
      "source": [
        "import pandas as pd\n",
        "\n",
        "\n",
        "df = pd.read_csv(\"/content/applicants.csv\")\n",
        "print(\"Original Data:\\n\", df)\n",
        "\n",
        "\n",
        "df = df.dropna(subset=[\"Python_Score\"])\n",
        "print(\"After dropping missing Python_Score:\\n\", df)\n",
        "\n",
        "\n",
        "df[\"Experience_Years\"] = df[\"Experience_Years\"].fillna(0)\n",
        "print(\"After filling missing Experience_Years:\\n\", df)\n",
        "\n",
        "\n",
        "filtered = df[(df[\"Python_Score\"] > 80) & (df[\"Experience_Years\"] > 2)]\n",
        "print(\"Qualified Applicants:\\n\", filtered)\n"
      ],
      "metadata": {
        "colab": {
          "base_uri": "https://localhost:8080/"
        },
        "id": "yZNDlfPg3JfU",
        "outputId": "149d1c09-9f0c-411f-a811-f723bbbd2e55"
      },
      "execution_count": 3,
      "outputs": [
        {
          "output_type": "stream",
          "name": "stdout",
          "text": [
            "Original Data:\n",
            "    Applicant_ID     Name  Degree  Experience_Years  Python_Score       Status\n",
            "0             1    Alice  B.Tech               3.0          85.0      Applied\n",
            "1             2      Bob     MCA               NaN          75.0  Shortlisted\n",
            "2             3  Charlie    B.Sc               5.0           NaN      Applied\n",
            "3             4    David     MBA               1.0          90.0      Applied\n",
            "4             5      Eve  B.Tech               NaN          95.0  Shortlisted\n",
            "5             6    Frank  M.Tech               4.0          60.0     Rejected\n",
            "6             7    Grace     BCA               2.0          88.0      Applied\n",
            "After dropping missing Python_Score:\n",
            "    Applicant_ID   Name  Degree  Experience_Years  Python_Score       Status\n",
            "0             1  Alice  B.Tech               3.0          85.0      Applied\n",
            "1             2    Bob     MCA               NaN          75.0  Shortlisted\n",
            "3             4  David     MBA               1.0          90.0      Applied\n",
            "4             5    Eve  B.Tech               NaN          95.0  Shortlisted\n",
            "5             6  Frank  M.Tech               4.0          60.0     Rejected\n",
            "6             7  Grace     BCA               2.0          88.0      Applied\n",
            "After filling missing Experience_Years:\n",
            "    Applicant_ID   Name  Degree  Experience_Years  Python_Score       Status\n",
            "0             1  Alice  B.Tech               3.0          85.0      Applied\n",
            "1             2    Bob     MCA               0.0          75.0  Shortlisted\n",
            "3             4  David     MBA               1.0          90.0      Applied\n",
            "4             5    Eve  B.Tech               0.0          95.0  Shortlisted\n",
            "5             6  Frank  M.Tech               4.0          60.0     Rejected\n",
            "6             7  Grace     BCA               2.0          88.0      Applied\n",
            "Qualified Applicants:\n",
            "    Applicant_ID   Name  Degree  Experience_Years  Python_Score   Status\n",
            "0             1  Alice  B.Tech               3.0          85.0  Applied\n"
          ]
        }
      ]
    }
  ]
}