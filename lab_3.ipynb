{
  "nbformat": 4,
  "nbformat_minor": 0,
  "metadata": {
    "colab": {
      "provenance": [],
      "authorship_tag": "ABX9TyOtPUxnYqShqhOK7TbhNU/l",
      "include_colab_link": true
    },
    "kernelspec": {
      "name": "python3",
      "display_name": "Python 3"
    },
    "language_info": {
      "name": "python"
    }
  },
  "cells": [
    {
      "cell_type": "markdown",
      "metadata": {
        "id": "view-in-github",
        "colab_type": "text"
      },
      "source": [
        "<a href=\"https://colab.research.google.com/github/2303a51884/2303a51884-pyds-b-02/blob/main/lab_3.ipynb\" target=\"_parent\"><img src=\"https://colab.research.google.com/assets/colab-badge.svg\" alt=\"Open In Colab\"/></a>"
      ]
    },
    {
      "cell_type": "code",
      "execution_count": 4,
      "metadata": {
        "colab": {
          "base_uri": "https://localhost:8080/"
        },
        "id": "eGcvj7oZ0ZAk",
        "outputId": "9482e1e2-8504-4086-889b-939c4a2b8856"
      },
      "outputs": [
        {
          "output_type": "stream",
          "name": "stdout",
          "text": [
            "Matrix 1:\n",
            "[[10 20 30]\n",
            " [40 50 60]\n",
            " [70 80 90]]\n",
            "Matrix 2:\n",
            "[[1 2 3]\n",
            " [4 5 6]\n",
            " [7 8 9]]\n",
            "Matrix Addition Result:\n",
            "[[11 22 33]\n",
            " [44 55 66]\n",
            " [77 88 99]]\n",
            "Matrix Subtraction Result:\n",
            "[[ 9 18 27]\n",
            " [36 45 54]\n",
            " [63 72 81]]\n"
          ]
        }
      ],
      "source": [
        "import numpy as np\n",
        "matrix1 = np.array([[10, 20, 30],\n",
        "                       [40, 50, 60],\n",
        "                       [70, 80, 90]])\n",
        "\n",
        "matrix2 = np.array([[1, 2, 3],\n",
        "                       [4, 5, 6],\n",
        "                       [7, 8, 9]])\n",
        "\n",
        "print(\"Matrix 1:\")\n",
        "print(matrix1)\n",
        "print(\"Matrix 2:\")\n",
        "print(matrix2)\n",
        "\n",
        "matrix_sum = np.add(matrix1, matrix2)\n",
        "print(\"Matrix Addition Result:\")\n",
        "print(matrix_sum)\n",
        "\n",
        "matrix_difference = np.subtract(matrix1,matrix2)\n",
        "print(\"Matrix Subtraction Result:\")\n",
        "print(matrix_difference)"
      ]
    },
    {
      "cell_type": "code",
      "source": [
        "import numpy as np\n",
        "\n",
        "matrix_a = np.array([[1, 2],\n",
        "                     [3, 4],\n",
        "                     [5, 6]])\n",
        "\n",
        "matrix_b = np.array([[7, 8, 9],\n",
        "                     [10, 11, 12]])\n",
        "\n",
        "print(\"Matrix A (3x2):\")\n",
        "print(matrix_a)\n",
        "print(\"Matrix B (2x3):\")\n",
        "print(matrix_b)\n",
        "\n",
        "if matrix_a.shape[1] == matrix_b.shape[0]:\n",
        "    print(\"Matrices are compatible for multiplication.\")\n",
        "\n",
        "    dot_product_result = matrix_a @ matrix_b\n",
        "\n",
        "    print(\"Result of A @ B (Dot Product):\")\n",
        "    print(dot_product_result)\n",
        "\n",
        "    manual_calculation = (matrix_a[0, 0] * matrix_b[0, 0]) + (matrix_a[0, 1] * matrix_b[1, 0])\n",
        "    print(f\"\\nManual calculation for the element at (0, 0):\")\n",
        "    print(f\"({matrix_a[0, 0]} * {matrix_b[0, 0]}) + ({matrix_a[0, 1]} * {matrix_b[1, 0]}) = {manual_calculation}\")\n",
        "    print(f\"The calculated result at (0, 0) is {dot_product_result[0, 0]}.\")\n",
        "else:\n",
        "    print(\"Matrices are not compatible for multiplication. The number of columns in the first matrix must match the number of rows in the second.\")"
      ],
      "metadata": {
        "colab": {
          "base_uri": "https://localhost:8080/"
        },
        "id": "Psiy1pmB7jlk",
        "outputId": "508ff7cb-4645-4404-f16c-ca4c23af8927"
      },
      "execution_count": 6,
      "outputs": [
        {
          "output_type": "stream",
          "name": "stdout",
          "text": [
            "Matrix A (3x2):\n",
            "[[1 2]\n",
            " [3 4]\n",
            " [5 6]]\n",
            "Matrix B (2x3):\n",
            "[[ 7  8  9]\n",
            " [10 11 12]]\n",
            "Matrices are compatible for multiplication.\n",
            "Result of A @ B (Dot Product):\n",
            "[[ 27  30  33]\n",
            " [ 61  68  75]\n",
            " [ 95 106 117]]\n",
            "\n",
            "Manual calculation for the element at (0, 0):\n",
            "(1 * 7) + (2 * 10) = 27\n",
            "The calculated result at (0, 0) is 27.\n"
          ]
        }
      ]
    }
  ]
}